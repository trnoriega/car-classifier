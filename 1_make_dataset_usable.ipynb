{
 "cells": [
  {
   "cell_type": "markdown",
   "metadata": {},
   "source": [
    "# Cars dataset\n",
    "\n",
    "Here I make the [cars dataset](http://ai.stanford.edu/~jkrause/cars/car_dataset.html) usable.\n",
    "The dataset has 16,185 images classified into 196 different classes of car. Classes are defined as specific makes, year, models.\n",
    "\n",
    "### Reading the label file"
   ]
  },
  {
   "cell_type": "code",
   "execution_count": 1,
   "metadata": {},
   "outputs": [],
   "source": [
    "from scipy.io import loadmat\n",
    "import os\n",
    "import pickle\n",
    "import custom.tools as ctools"
   ]
  },
  {
   "cell_type": "code",
   "execution_count": 2,
   "metadata": {},
   "outputs": [
    {
     "data": {
      "text/plain": [
       "dict_keys(['__header__', '__version__', '__globals__', 'annotations', 'class_names'])"
      ]
     },
     "execution_count": 2,
     "metadata": {},
     "output_type": "execute_result"
    }
   ],
   "source": [
    "labels = loadmat(os.path.join('data', 'cars_dataset', 'cars_annos.mat'))\n",
    "labels.keys()"
   ]
  },
  {
   "cell_type": "code",
   "execution_count": 3,
   "metadata": {},
   "outputs": [
    {
     "name": "stdout",
     "output_type": "stream",
     "text": [
      "annotations shape: (16185,)\n",
      "class_names shape: (196,)\n"
     ]
    }
   ],
   "source": [
    "annotations = labels['annotations'].flatten()\n",
    "class_names = labels['class_names'].flatten()\n",
    "print('annotations shape: {}' .format(annotations.shape))\n",
    "print('class_names shape: {}' .format(class_names.shape))"
   ]
  },
  {
   "cell_type": "markdown",
   "metadata": {},
   "source": [
    "### Understanding the components of the labels\n",
    "The annotations have image_name and class_name in indices 0 and 5, respectively.\n",
    "The other annotations are tied to bounding boxes (1-4).\n",
    "I am not sure what annotation 6 is for."
   ]
  },
  {
   "cell_type": "code",
   "execution_count": 4,
   "metadata": {},
   "outputs": [
    {
     "data": {
      "text/plain": [
       "(array(['car_ims/000001.jpg'], \n",
       "      dtype='<U18'), array([[112]], dtype=uint8), array([[7]], dtype=uint8), array([[853]], dtype=uint16), array([[717]], dtype=uint16), array([[1]], dtype=uint8), array([[0]], dtype=uint8))"
      ]
     },
     "execution_count": 4,
     "metadata": {},
     "output_type": "execute_result"
    }
   ],
   "source": [
    "annotations[0]"
   ]
  },
  {
   "cell_type": "code",
   "execution_count": 5,
   "metadata": {},
   "outputs": [
    {
     "name": "stdout",
     "output_type": "stream",
     "text": [
      "Image name: ['car_ims/000001.jpg'], class label: [[1]]\n",
      "Image name: ['car_ims/000089.jpg'], class label: [[1]]\n",
      "Image name: ['car_ims/000090.jpg'], class label: [[2]]\n"
     ]
    }
   ],
   "source": [
    "print('Image name: {}, class label: {}' .format(annotations[0][0], annotations[0][5]))\n",
    "print('Image name: {}, class label: {}' .format(annotations[88][0], annotations[88][5]))\n",
    "print('Image name: {}, class label: {}' .format(annotations[89][0], annotations[89][5]))"
   ]
  },
  {
   "cell_type": "markdown",
   "metadata": {},
   "source": [
    "From visual inspection it looks like the class labels correspond to class_names indexes.\n",
    "__class_names is 1-indexed__"
   ]
  },
  {
   "cell_type": "code",
   "execution_count": 6,
   "metadata": {},
   "outputs": [
    {
     "data": {
      "text/plain": [
       "array(['AM General Hummer SUV 2000'], \n",
       "      dtype='<U26')"
      ]
     },
     "execution_count": 6,
     "metadata": {},
     "output_type": "execute_result"
    }
   ],
   "source": [
    "class_names[0]"
   ]
  },
  {
   "cell_type": "code",
   "execution_count": 7,
   "metadata": {},
   "outputs": [
    {
     "data": {
      "text/plain": [
       "array(['Acura RL Sedan 2012'], \n",
       "      dtype='<U19')"
      ]
     },
     "execution_count": 7,
     "metadata": {},
     "output_type": "execute_result"
    }
   ],
   "source": [
    "class_names[1]"
   ]
  },
  {
   "cell_type": "code",
   "execution_count": 8,
   "metadata": {},
   "outputs": [
    {
     "data": {
      "text/plain": [
       "['AM General Hummer SUV 2000', 'Acura RL Sedan 2012', 'Acura TL Sedan 2012']"
      ]
     },
     "execution_count": 8,
     "metadata": {},
     "output_type": "execute_result"
    }
   ],
   "source": [
    "# convert class_names into list for ease of indexing\n",
    "label_full_list = [name[0] for name in class_names]\n",
    "label_full_list[0:3]"
   ]
  },
  {
   "cell_type": "markdown",
   "metadata": {},
   "source": [
    "### Cleaning the labels\n",
    "1) Provide naming that cleanly separates make, model & year with '-'\n",
    "\n",
    "2) Pair up each image name with its corresponding label."
   ]
  },
  {
   "cell_type": "code",
   "execution_count": 9,
   "metadata": {},
   "outputs": [
    {
     "name": "stdout",
     "output_type": "stream",
     "text": [
      "Dodge Ram_C/V_Cargo_Van_Minivan\n",
      "Ram_C/V_Cargo_Van_Minivan\n",
      "Ram_C_V_Cargo_Van_Minivan\n"
     ]
    },
    {
     "data": {
      "text/plain": [
       "[('Plymouth', 'Neon_Coupe', '1999'),\n",
       " ('Porsche', 'Panamera_Sedan', '2012'),\n",
       " ('Dodge', 'Ram_C_V_Cargo_Van_Minivan', '2012'),\n",
       " ('Rolls_Royce', 'Phantom_Drophead_Coupe_Convertible', '2012'),\n",
       " ('Rolls_Royce', 'Ghost_Sedan', '2012'),\n",
       " ('Rolls_Royce', 'Phantom_Sedan', '2012'),\n",
       " ('Scion', 'xD_Hatchback', '2012'),\n",
       " ('Spyker', 'C8_Convertible', '2009'),\n",
       " ('Spyker', 'C8_Coupe', '2009'),\n",
       " ('Suzuki', 'Aerio_Sedan', '2007'),\n",
       " ('Suzuki', 'Kizashi_Sedan', '2012'),\n",
       " ('Suzuki', 'SX4_Hatchback', '2012'),\n",
       " ('Suzuki', 'SX4_Sedan', '2012'),\n",
       " ('Tesla', 'Model_S_Sedan', '2012'),\n",
       " ('Toyota', 'Sequoia_SUV', '2012'),\n",
       " ('Toyota', 'Camry_Sedan', '2012'),\n",
       " ('Toyota', 'Corolla_Sedan', '2012'),\n",
       " ('Toyota', '4Runner_SUV', '2012'),\n",
       " ('Volkswagen', 'Golf_Hatchback', '2012'),\n",
       " ('Volkswagen', 'Golf_Hatchback', '1991'),\n",
       " ('Volkswagen', 'Beetle_Hatchback', '2012'),\n",
       " ('Volvo', 'C30_Hatchback', '2012'),\n",
       " ('Volvo', '240_Sedan', '1993'),\n",
       " ('Volvo', 'XC90_SUV', '2007'),\n",
       " ('smart', 'fortwo_Convertible', '2012')]"
      ]
     },
     "execution_count": 9,
     "metadata": {},
     "output_type": "execute_result"
    }
   ],
   "source": [
    "def conditional_replace(string, old_substring, new_substring, verbose=False):\n",
    "    if old_substring in string:\n",
    "        if verbose:\n",
    "            print(string)\n",
    "        string = string.replace(old_substring, new_substring)\n",
    "        if verbose:\n",
    "            print(string)\n",
    "    return string\n",
    "\n",
    "label_tuples = []\n",
    "for name in label_full_list:\n",
    "    words = name.split(' ')\n",
    "    make = words[0]\n",
    "    if make in ['Aston', 'Land']:\n",
    "        make = '_'.join(words[:2])\n",
    "        model = '_'.join(words[2:-1])\n",
    "    if make == 'Ram':\n",
    "        make = 'Dodge'\n",
    "        model = 'Ram_' + '_'.join(words[1:-1])\n",
    "        print(make, model)\n",
    "    else:\n",
    "        model = '_'.join(words[1:-1])\n",
    "    year = words [-1]\n",
    "    make = conditional_replace(make, '-', '_')\n",
    "    make = conditional_replace(make, '/', '_')\n",
    "    model = conditional_replace(model, '-', '_')\n",
    "    model = conditional_replace(model, '/', '_', verbose=True)\n",
    "    tup = (make, model, year)\n",
    "    label_tuples.append(tup)\n",
    "\n",
    "label_tuples[-25:]"
   ]
  },
  {
   "cell_type": "code",
   "execution_count": 10,
   "metadata": {},
   "outputs": [
    {
     "data": {
      "text/plain": [
       "['AM-General_Hummer_SUV-2000',\n",
       " 'Acura-RL_Sedan-2012',\n",
       " 'Acura-TL_Sedan-2012',\n",
       " 'Acura-TL_Type_S-2008',\n",
       " 'Acura-TSX_Sedan-2012',\n",
       " 'Acura-Integra_Type_R-2001',\n",
       " 'Acura-ZDX_Hatchback-2012',\n",
       " 'Aston_Martin-Martin_V8_Vantage_Convertible-2012',\n",
       " 'Aston_Martin-Martin_V8_Vantage_Coupe-2012',\n",
       " 'Aston_Martin-Martin_Virage_Convertible-2012']"
      ]
     },
     "execution_count": 10,
     "metadata": {},
     "output_type": "execute_result"
    }
   ],
   "source": [
    "label_list = ['-'.join(tup) for tup in label_tuples]\n",
    "label_list[0:10]"
   ]
  },
  {
   "cell_type": "code",
   "execution_count": 11,
   "metadata": {},
   "outputs": [],
   "source": [
    "clean_pairs = [(annotation[0][0], label_list[annotation[5][0][0]-1]) \n",
    "               for annotation in annotations]\n",
    "clean_pairs = [(tup[0].strip('car_ims/'), tup[1]) for tup in clean_pairs]"
   ]
  },
  {
   "cell_type": "code",
   "execution_count": 12,
   "metadata": {},
   "outputs": [
    {
     "data": {
      "text/plain": [
       "(('000001.jpg', 'AM-General_Hummer_SUV-2000'),\n",
       " ('000089.jpg', 'AM-General_Hummer_SUV-2000'),\n",
       " ('000090.jpg', 'Acura-RL_Sedan-2012'),\n",
       " ('016185.jpg', 'smart-fortwo_Convertible-2012'))"
      ]
     },
     "execution_count": 12,
     "metadata": {},
     "output_type": "execute_result"
    }
   ],
   "source": [
    "clean_pairs[0], clean_pairs[88], clean_pairs[89], clean_pairs[-1]"
   ]
  },
  {
   "cell_type": "markdown",
   "metadata": {},
   "source": [
    "### Saving the data"
   ]
  },
  {
   "cell_type": "code",
   "execution_count": 13,
   "metadata": {},
   "outputs": [],
   "source": [
    "save_dir = os.path.join('data', 'notebooks', '1_make_dataset_usable')\n",
    "dicto_to_save = {\n",
    "    'clean_pairs': clean_pairs,\n",
    "    'label_tuples': label_tuples\n",
    "}\n",
    "\n",
    "ctools.pickle_variable_to_path(dicto_to_save, 'pair_dicto.pkl', save_dir)"
   ]
  }
 ],
 "metadata": {
  "kernelspec": {
   "display_name": "Python 3",
   "language": "python",
   "name": "python3"
  },
  "language_info": {
   "codemirror_mode": {
    "name": "ipython",
    "version": 3
   },
   "file_extension": ".py",
   "mimetype": "text/x-python",
   "name": "python",
   "nbconvert_exporter": "python",
   "pygments_lexer": "ipython3",
   "version": "3.6.3"
  }
 },
 "nbformat": 4,
 "nbformat_minor": 2
}
