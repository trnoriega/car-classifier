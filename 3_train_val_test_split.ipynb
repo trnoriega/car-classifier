{
 "cells": [
  {
   "cell_type": "markdown",
   "metadata": {},
   "source": [
    "# Splitting the dataset into train validation and test sets for keras\n",
    "\n",
    "Here I take to data from the [1_make_dataset_usable](1_make_dataset_usable.ipynb) notebook and\n",
    "split it for model training with Keras."
   ]
  },
  {
   "cell_type": "code",
   "execution_count": 1,
   "metadata": {},
   "outputs": [],
   "source": [
    "import os\n",
    "import pickle\n",
    "\n",
    "import numpy as np\n",
    "\n",
    "from sklearn.preprocessing import MultiLabelBinarizer\n",
    "from sklearn.model_selection import train_test_split"
   ]
  },
  {
   "cell_type": "markdown",
   "metadata": {},
   "source": [
    "### Get data from [1_make_dataset_usable](1_make_dataset_usable.ipynb)"
   ]
  },
  {
   "cell_type": "code",
   "execution_count": 2,
   "metadata": {},
   "outputs": [],
   "source": [
    "file_path = os.path.join('data', 'notebooks', '1_make_dataset_usable', 'pair_dicto.pkl')\n",
    "with open(file_path, 'rb') as file:\n",
    "    pair_dicto = pickle.load(file)"
   ]
  },
  {
   "cell_type": "code",
   "execution_count": 3,
   "metadata": {},
   "outputs": [
    {
     "name": "stdout",
     "output_type": "stream",
     "text": [
      "number of pairs 16185\n",
      "first pair: ('000001.jpg', 'AM-General_Hummer_SUV-2000')\n"
     ]
    }
   ],
   "source": [
    "pairs = pair_dicto['clean_pairs']\n",
    "print('number of pairs', len(pairs))\n",
    "print('first pair:', pairs[0])"
   ]
  },
  {
   "cell_type": "markdown",
   "metadata": {},
   "source": [
    "### Split into 70% training,  15% validation, and 15% test sets using sklearn"
   ]
  },
  {
   "cell_type": "markdown",
   "metadata": {},
   "source": [
    "Make the pairs into image names without extension and binarized labels that sklearn can use to randomly generate training, validation, and test sets."
   ]
  },
  {
   "cell_type": "code",
   "execution_count": 4,
   "metadata": {},
   "outputs": [
    {
     "name": "stdout",
     "output_type": "stream",
     "text": [
      "first 5 prefixes: ['000001', '000002', '000003', '000004', '000005']\n",
      "first 5 labels: ['AM-General_Hummer_SUV-2000', 'AM-General_Hummer_SUV-2000', 'AM-General_Hummer_SUV-2000', 'AM-General_Hummer_SUV-2000', 'AM-General_Hummer_SUV-2000']\n",
      "number of unique labels: 196\n"
     ]
    }
   ],
   "source": [
    "prefixes, labels = zip(*pairs)\n",
    "prefixes = [prefix.rstrip('.jpg') for prefix in prefixes]\n",
    "labels = list(labels)\n",
    "label_set = set(labels)\n",
    "print('first 5 prefixes:', prefixes[:5])\n",
    "print('first 5 labels:', labels[:5])\n",
    "print('number of unique labels:', len(label_set))"
   ]
  },
  {
   "cell_type": "code",
   "execution_count": 5,
   "metadata": {},
   "outputs": [],
   "source": [
    "# This weird list of label sets is so that sklearn works\n",
    "sklearn_label_setlist = [set([label]) for label in labels]"
   ]
  },
  {
   "cell_type": "code",
   "execution_count": 6,
   "metadata": {},
   "outputs": [
    {
     "name": "stdout",
     "output_type": "stream",
     "text": [
      "labels_arr shape: (16185, 196)\n"
     ]
    }
   ],
   "source": [
    "encoder = MultiLabelBinarizer()\n",
    "labels_array = encoder.fit_transform(sklearn_label_setlist)\n",
    "print('labels_arr shape:', labels_array.shape)"
   ]
  },
  {
   "cell_type": "markdown",
   "metadata": {},
   "source": [
    "This part shows how you can go from binary label back to human-readable label"
   ]
  },
  {
   "cell_type": "code",
   "execution_count": 7,
   "metadata": {},
   "outputs": [
    {
     "name": "stdout",
     "output_type": "stream",
     "text": [
      "[[0 0 0 0 0 0 0 0 0 0 0 0 0 1 0 0 0 0 0 0 0 0 0 0 0 0 0 0 0 0 0 0 0 0 0 0 0\n",
      "  0 0 0 0 0 0 0 0 0 0 0 0 0 0 0 0 0 0 0 0 0 0 0 0 0 0 0 0 0 0 0 0 0 0 0 0 0\n",
      "  0 0 0 0 0 0 0 0 0 0 0 0 0 0 0 0 0 0 0 0 0 0 0 0 0 0 0 0 0 0 0 0 0 0 0 0 0\n",
      "  0 0 0 0 0 0 0 0 0 0 0 0 0 0 0 0 0 0 0 0 0 0 0 0 0 0 0 0 0 0 0 0 0 0 0 0 0\n",
      "  0 0 0 0 0 0 0 0 0 0 0 0 0 0 0 0 0 0 0 0 0 0 0 0 0 0 0 0 0 0 0 0 0 0 0 0 0\n",
      "  0 0 0 0 0 0 0 0 0 0 0]]\n",
      "Audi-A5_Coupe-2012\n"
     ]
    }
   ],
   "source": [
    "# Need to reshape so that it has (n_samples, n_features) rather than just (n_features,) \n",
    "feed_back = np.reshape(labels_array[1000], (1, -1)) \n",
    "print(feed_back)\n",
    "print(encoder.inverse_transform(feed_back)[0][0])"
   ]
  },
  {
   "cell_type": "code",
   "execution_count": 8,
   "metadata": {},
   "outputs": [
    {
     "name": "stdout",
     "output_type": "stream",
     "text": [
      "train samples: 11329\n",
      "validation samples: 2428\n",
      "test samples: 2428\n"
     ]
    }
   ],
   "source": [
    "train_x, val_test_x, train_y, val_test_y = train_test_split(prefixes, labels_array, \n",
    "                                                            test_size=0.3,\n",
    "                                                            random_state=7)\n",
    "print('train samples:', len(train_x))\n",
    "\n",
    "validation_x, test_x, validation_y, test_y = train_test_split(val_test_x, val_test_y,\n",
    "                                                              test_size=0.5,\n",
    "                                                              random_state=9)\n",
    "print('validation samples: {}\\ntest samples: {}' .format(len(validation_x), len(test_x)))"
   ]
  },
  {
   "cell_type": "markdown",
   "metadata": {},
   "source": [
    "Remap the new splits into (prefix, human-readable labels)"
   ]
  },
  {
   "cell_type": "code",
   "execution_count": 9,
   "metadata": {},
   "outputs": [
    {
     "name": "stdout",
     "output_type": "stream",
     "text": [
      "('008845', 'Ford-Freestar_Minivan-2007')\n"
     ]
    }
   ],
   "source": [
    "train_x_y = list(zip(train_x, train_y))\n",
    "train_x_y = [(tup[0], \n",
    "              encoder.inverse_transform(np.reshape(tup[1], (1,-1)))[0][0])\\\n",
    "             for tup in train_x_y]\n",
    "\n",
    "validation_x_y = list(zip(validation_x, validation_y))\n",
    "validation_x_y = [(tup[0],\n",
    "                   encoder.inverse_transform(np.reshape(tup[1], (1,-1)))[0][0])\\\n",
    "                  for tup in validation_x_y]\n",
    "\n",
    "test_x_y = list(zip(test_x, test_y))\n",
    "test_x_y = [(tup[0],\n",
    "                   encoder.inverse_transform(np.reshape(tup[1], (1,-1)))[0][0])\\\n",
    "                  for tup in test_x_y]\n",
    "\n",
    "tvt_dict = {'train': train_x_y,\n",
    "            'validation': validation_x_y,\n",
    "            'test': test_x_y}\n",
    "\n",
    "print(tvt_dict['train'][0])"
   ]
  },
  {
   "cell_type": "markdown",
   "metadata": {},
   "source": [
    "### Split images into folders named with each class so that Keras can use its image generators\n",
    "\n",
    "```\n",
    "train/\n",
    "    label1/\n",
    "        img1.jpg\n",
    "        ...\n",
    "    label2/\n",
    "        img2.jpg\n",
    "        ...\n",
    "validation/\n",
    "    label1/\n",
    "        img3.jpg\n",
    "        ...\n",
    "    label2/\n",
    "        img4.jpg\n",
    "        ...\n",
    "test/\n",
    "    label1/\n",
    "        img5.jpg\n",
    "        ...\n",
    "    label2/\n",
    "        img6.jpg\n",
    "        ...\n",
    "```"
   ]
  },
  {
   "cell_type": "code",
   "execution_count": 10,
   "metadata": {},
   "outputs": [],
   "source": [
    "import os\n",
    "import shutil"
   ]
  },
  {
   "cell_type": "code",
   "execution_count": 11,
   "metadata": {},
   "outputs": [],
   "source": [
    "BASE_PATH = os.getcwd()\n",
    "STD_PATH = os.path.join(BASE_PATH, 'data', 'cars_dataset', 'original', 'images')\n",
    "KERAS_PATH = os.path.join(BASE_PATH, 'data', 'cars_dataset', 'keras')\n",
    "FAST_PATH = os.path.join(KERAS_PATH, 'fast')"
   ]
  },
  {
   "cell_type": "code",
   "execution_count": 12,
   "metadata": {},
   "outputs": [],
   "source": [
    "for key, item in tvt_dict.items():\n",
    "    # Make train, validation, and test directories\n",
    "    temp_path = os.path.join(KERAS_PATH, key)\n",
    "    if not os.path.isdir(temp_path):\n",
    "        os.makedirs(temp_path)\n",
    "    \n",
    "    for label in encoder.classes_:\n",
    "        #Make label directoties in each of the folders above\n",
    "        to_path = os.path.join(temp_path, label)\n",
    "        if not os.path.isdir(to_path):\n",
    "            os.makedirs(to_path)\n",
    "        \n",
    "        for tup in item:\n",
    "            # Copy file to their corresponding folder\n",
    "            if tup[1] == label:\n",
    "                from_path = os.path.join(STD_PATH, tup[0] + '.jpg')\n",
    "                shutil.copy(from_path, to_path)"
   ]
  },
  {
   "cell_type": "markdown",
   "metadata": {},
   "source": [
    "Create a copy of the three folders for fast testing with two images (for training) and 1 image (for val and test) in each class. \n",
    "\n",
    "Use same nesting scheme as above."
   ]
  },
  {
   "cell_type": "code",
   "execution_count": 13,
   "metadata": {},
   "outputs": [],
   "source": [
    "# fresh start for testing\n",
    "if os.path.isdir(FAST_PATH):\n",
    "    shutil.rmtree(FAST_PATH)\n",
    "\n",
    "# get outer directories from KERAS_PATH\n",
    "with os.scandir(KERAS_PATH) as outer_directories:\n",
    "    outer_directories = list(outer_directories)\n",
    "\n",
    "\n",
    "os.mkdir(FAST_PATH)\n",
    "to_copy = []\n",
    "# Iterate from outer directories\n",
    "for outer_directory in outer_directories:\n",
    "    if not outer_directory.name.startswith('.') and outer_directory.is_dir():\n",
    "        new_outer_directory = os.path.join(FAST_PATH, outer_directory.name)\n",
    "        old_outer_directory = os.path.join(KERAS_PATH, outer_directory.name)\n",
    "        os.mkdir(new_outer_directory)\n",
    "        # through model directories\n",
    "        with os.scandir(old_outer_directory) as model_name_directories:\n",
    "            for model_name_directory in model_name_directories:\n",
    "                if not model_name_directory.name.startswith('.') and model_name_directory.is_dir():\n",
    "                    new_model_directory = os.path.join(FAST_PATH, outer_directory.name, model_name_directory.name)\n",
    "                    old_model_directory = os.path.join(KERAS_PATH, outer_directory.name, model_name_directory.name)\n",
    "                    os.mkdir(new_model_directory)\n",
    "                    # through image filenames in each model directory\n",
    "                    with os.scandir(old_model_directory) as image_filenames:\n",
    "                        image_filenames =\\\n",
    "                        [image_filename.name for image_filename in image_filenames if image_filename.is_file()]\n",
    "                        # copy 2 or 1 files depending on whether outer directory is train or not\n",
    "                        if outer_directory.name == 'train':\n",
    "                            outer_directory_i = 2\n",
    "                        else:\n",
    "                            outer_directory_i = 1\n",
    "                        to_copy = image_filenames[:outer_directory_i]\n",
    "                        # Do the actual copying\n",
    "                        for image_filename in to_copy:\n",
    "                            new_image_path = os.path.join(new_model_directory, image_filename)\n",
    "                            old_image_path = os.path.join(old_model_directory, image_filename)\n",
    "                            shutil.copy(old_image_path, new_image_path)"
   ]
  }
 ],
 "metadata": {
  "kernelspec": {
   "display_name": "Python 3",
   "language": "python",
   "name": "python3"
  },
  "language_info": {
   "codemirror_mode": {
    "name": "ipython",
    "version": 3
   },
   "file_extension": ".py",
   "mimetype": "text/x-python",
   "name": "python",
   "nbconvert_exporter": "python",
   "pygments_lexer": "ipython3",
   "version": "3.6.3"
  }
 },
 "nbformat": 4,
 "nbformat_minor": 2
}
