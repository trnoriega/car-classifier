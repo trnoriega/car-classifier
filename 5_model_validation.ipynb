{
 "cells": [
  {
   "cell_type": "markdown",
   "metadata": {},
   "source": [
    "# Validating a trained network\n",
    "\n",
    "In this notebook I will validate the model trained in\n",
    "[Inceptionv3_21](inception_v3_experiments/Inceptionv3_21.ipynb)"
   ]
  },
  {
   "cell_type": "code",
   "execution_count": 4,
   "metadata": {},
   "outputs": [],
   "source": [
    "import os\n",
    "import pickle\n",
    "\n",
    "import numpy as np\n",
    "\n",
    "from keras import backend as K\n",
    "from keras.layers import Conv2D, Dropout, Dense\n",
    "from keras.models import Sequential, model_from_json\n",
    "from keras.preprocessing.image import load_img, img_to_array"
   ]
  },
  {
   "cell_type": "markdown",
   "metadata": {},
   "source": [
    "## Image, directory, and batch setup"
   ]
  },
  {
   "cell_type": "code",
   "execution_count": 5,
   "metadata": {},
   "outputs": [],
   "source": [
    "# Image dimensions:\n",
    "IMG_WIDTH, IMG_HEIGHT = 299, 299\n",
    "\n",
    "WORKING_DIR = os.getcwd()\n",
    "BASE = os.path.join(WORKING_DIR, 'data', 'cars_dataset', 'keras')\n",
    "SAVE_DIR = os.path.join(WORKING_DIR, 'data', 'InceptionV3')\n",
    "PREDICT_DIR = os.path.join(WORKING_DIR, 'data', 'predict_me')\n",
    "LOOKUP_PATH = os.path.join(SAVE_DIR, 'I_15_lookup_dict.pkl')\n",
    "\n",
    "NB_CLASSES = 196\n",
    "\n",
    "if K.image_data_format() == 'channels_first':\n",
    "    INPUT_SHAPE = (3, IMG_WIDTH, IMG_HEIGHT)\n",
    "else:\n",
    "    INPUT_SHAPE = (IMG_WIDTH, IMG_HEIGHT, 3)"
   ]
  },
  {
   "cell_type": "markdown",
   "metadata": {},
   "source": [
    "## Model definition"
   ]
  },
  {
   "cell_type": "code",
   "execution_count": 6,
   "metadata": {},
   "outputs": [],
   "source": [
    "JSON_PATH = os.path.join(SAVE_DIR, 'InceptionV3_21_FT3_30_40.json')\n",
    "with open (JSON_PATH, 'r') as json_file:\n",
    "    loaded_model_json = json_file.read()\n",
    "\n",
    "json_model = model_from_json(loaded_model_json)"
   ]
  },
  {
   "cell_type": "code",
   "execution_count": 7,
   "metadata": {},
   "outputs": [],
   "source": [
    "WEIGHT_PATH = os.path.join(SAVE_DIR, 'InceptionV3_21_FT3_30_40.h5')\n",
    "json_model.load_weights(WEIGHT_PATH)"
   ]
  },
  {
   "cell_type": "markdown",
   "metadata": {},
   "source": [
    "### Predict!"
   ]
  },
  {
   "cell_type": "code",
   "execution_count": 8,
   "metadata": {},
   "outputs": [
    {
     "name": "stdout",
     "output_type": "stream",
     "text": [
      "\n",
      "Predictions for Dodge-Ram_Pickup_3500_Crew_Cab-2010.jpg:\n",
      "Dodge-Ram_Pickup_3500_Crew_Cab-2010\n",
      "Dodge-Ram_Pickup_3500_Quad_Cab-2009\n",
      "Dodge-Durango_SUV-2007\n",
      "\n",
      "Predictions for Audi-100_Sedan-1994.jpg:\n",
      "Audi-100_Sedan-1994\n",
      "Audi-V8_Sedan-1994\n",
      "Volvo-240_Sedan-1993\n",
      "\n",
      "Predictions for AM-General_Hummer_SUV-2000.jpg:\n",
      "AM-General_Hummer_SUV-2000\n",
      "HUMMER-H2_SUT_Crew_Cab-2009\n",
      "HUMMER-H3T_Crew_Cab-2010\n",
      "\n",
      "Predictions for Aston_Martin-Martin_V8_Vantage_Convertible-2012.jpg:\n",
      "Aston_Martin-Martin_V8_Vantage_Convertible-2012\n",
      "Aston_Martin-Martin_V8_Vantage_Coupe-2012\n",
      "BMW-Z4_Convertible-2012\n"
     ]
    }
   ],
   "source": [
    "test_file_list = [f for f in os.listdir(PREDICT_DIR) if\\\n",
    "                   os.path.isfile(os.path.join(PREDICT_DIR, f))]\n",
    "\n",
    "with open(LOOKUP_PATH, 'rb') as f:\n",
    "    lookup_dict = pickle.load(f)\n",
    "\n",
    "for test_file in test_file_list:\n",
    "    file_path = os.path.join(PREDICT_DIR, test_file)\n",
    "    input_image = load_img(file_path, \n",
    "                           target_size=(IMG_HEIGHT, IMG_WIDTH))\n",
    "    input_image = img_to_array(input_image)\n",
    "    # the images are scaled during training so they need to be scaled for predictions too\n",
    "    input_image = input_image/255.\n",
    "    input_image = np.expand_dims(input_image, axis=0)\n",
    "    prediction = json_model.predict(input_image)\n",
    "    top_3 = prediction[0].argsort()[-3:][::-1]\n",
    "    print('\\nPredictions for {}:'.format(test_file))\n",
    "    for idx in top_3:\n",
    "        print(lookup_dict.get(idx))"
   ]
  },
  {
   "cell_type": "code",
   "execution_count": null,
   "metadata": {},
   "outputs": [],
   "source": []
  }
 ],
 "metadata": {
  "kernelspec": {
   "display_name": "Python 3",
   "language": "python",
   "name": "python3"
  },
  "language_info": {
   "codemirror_mode": {
    "name": "ipython",
    "version": 3
   },
   "file_extension": ".py",
   "mimetype": "text/x-python",
   "name": "python",
   "nbconvert_exporter": "python",
   "pygments_lexer": "ipython3",
   "version": "3.6.3"
  }
 },
 "nbformat": 4,
 "nbformat_minor": 2
}
