{
 "cells": [
  {
   "cell_type": "markdown",
   "metadata": {},
   "source": [
    "# Using a trained network for predictions\n"
   ]
  },
  {
   "cell_type": "code",
   "execution_count": 2,
   "metadata": {},
   "outputs": [
    {
     "name": "stderr",
     "output_type": "stream",
     "text": [
      "Using TensorFlow backend.\n"
     ]
    }
   ],
   "source": [
    "import os\n",
    "import time\n",
    "import pickle\n",
    "\n",
    "import numpy as np\n",
    "\n",
    "from keras.preprocessing.image import ImageDataGenerator\n",
    "from keras.models import Sequential\n",
    "from keras.layers import Dense, Dropout\n",
    "from keras import backend as K\n",
    "from keras import metrics\n",
    "\n",
    "from cars_utils import pickle_variable_to_path"
   ]
  },
  {
   "cell_type": "markdown",
   "metadata": {},
   "source": [
    "## Image, directory, and batch setup"
   ]
  },
  {
   "cell_type": "code",
   "execution_count": 3,
   "metadata": {},
   "outputs": [],
   "source": [
    "# Image dimensions:\n",
    "IMG_WIDTH, IMG_HEIGHT = 299, 299\n",
    "\n",
    "WORKING_DIR = os.getcwd()\n",
    "BASE = os.path.join(WORKING_DIR, 'data', 'cars_dataset', 'keras')\n",
    "\n",
    "SAVE_DIR = os.path.join(WORKING_DIR, 'data', 'notebooks', '6_predictions_with_trained_model')\n",
    "\n",
    "### Settings for full training\n",
    "TEST_DATA_DIR = os.path.join(BASE, 'test')\n",
    "NB_CLASSES = 196\n",
    "BATCH_SIZE = 1\n",
    "\n",
    "if K.image_data_format() == 'channels_first':\n",
    "    INPUT_SHAPE = (3, IMG_WIDTH, IMG_HEIGHT)\n",
    "else:\n",
    "    INPUT_SHAPE = (IMG_WIDTH, IMG_HEIGHT, 3)"
   ]
  },
  {
   "cell_type": "markdown",
   "metadata": {},
   "source": [
    "## Image augmentation generators"
   ]
  },
  {
   "cell_type": "code",
   "execution_count": 4,
   "metadata": {},
   "outputs": [],
   "source": [
    "test_datagen = ImageDataGenerator(rescale=1/255)"
   ]
  },
  {
   "cell_type": "code",
   "execution_count": 5,
   "metadata": {},
   "outputs": [
    {
     "name": "stdout",
     "output_type": "stream",
     "text": [
      "Found 2428 images belonging to 196 classes.\n"
     ]
    }
   ],
   "source": [
    "test_generator = test_datagen.flow_from_directory(\n",
    "    TEST_DATA_DIR,\n",
    "    target_size=(IMG_WIDTH, IMG_HEIGHT),\n",
    "    batch_size=BATCH_SIZE,\n",
    "    class_mode='categorical',\n",
    "    seed=13)"
   ]
  },
  {
   "cell_type": "code",
   "execution_count": 22,
   "metadata": {},
   "outputs": [
    {
     "data": {
      "text/plain": [
       "{0: 'AM-General_Hummer_SUV-2000',\n",
       " 1: 'Acura-Integra_Type_R-2001',\n",
       " 2: 'Acura-RL_Sedan-2012',\n",
       " 3: 'Acura-TL_Sedan-2012',\n",
       " 4: 'Acura-TL_Type_S-2008',\n",
       " 5: 'Acura-TSX_Sedan-2012',\n",
       " 6: 'Acura-ZDX_Hatchback-2012',\n",
       " 7: 'Aston_Martin-Martin_V8_Vantage_Convertible-2012',\n",
       " 8: 'Aston_Martin-Martin_V8_Vantage_Coupe-2012',\n",
       " 9: 'Aston_Martin-Martin_Virage_Convertible-2012',\n",
       " 10: 'Aston_Martin-Martin_Virage_Coupe-2012',\n",
       " 11: 'Audi-100_Sedan-1994',\n",
       " 12: 'Audi-100_Wagon-1994',\n",
       " 13: 'Audi-A5_Coupe-2012',\n",
       " 14: 'Audi-R8_Coupe-2012',\n",
       " 15: 'Audi-RS_4_Convertible-2008',\n",
       " 16: 'Audi-S4_Sedan-2007',\n",
       " 17: 'Audi-S4_Sedan-2012',\n",
       " 18: 'Audi-S5_Convertible-2012',\n",
       " 19: 'Audi-S5_Coupe-2012',\n",
       " 20: 'Audi-S6_Sedan-2011',\n",
       " 21: 'Audi-TTS_Coupe-2012',\n",
       " 22: 'Audi-TT_Hatchback-2011',\n",
       " 23: 'Audi-TT_RS_Coupe-2012',\n",
       " 24: 'Audi-V8_Sedan-1994',\n",
       " 25: 'BMW-1_Series_Convertible-2012',\n",
       " 26: 'BMW-1_Series_Coupe-2012',\n",
       " 27: 'BMW-3_Series_Sedan-2012',\n",
       " 28: 'BMW-3_Series_Wagon-2012',\n",
       " 29: 'BMW-6_Series_Convertible-2007',\n",
       " 30: 'BMW-ActiveHybrid_5_Sedan-2012',\n",
       " 31: 'BMW-M3_Coupe-2012',\n",
       " 32: 'BMW-M5_Sedan-2010',\n",
       " 33: 'BMW-M6_Convertible-2010',\n",
       " 34: 'BMW-X3_SUV-2012',\n",
       " 35: 'BMW-X5_SUV-2007',\n",
       " 36: 'BMW-X6_SUV-2012',\n",
       " 37: 'BMW-Z4_Convertible-2012',\n",
       " 38: 'Bentley-Arnage_Sedan-2009',\n",
       " 39: 'Bentley-Continental_Flying_Spur_Sedan-2007',\n",
       " 40: 'Bentley-Continental_GT_Coupe-2007',\n",
       " 41: 'Bentley-Continental_GT_Coupe-2012',\n",
       " 42: 'Bentley-Continental_Supersports_Conv._Convertible-2012',\n",
       " 43: 'Bentley-Mulsanne_Sedan-2011',\n",
       " 44: 'Bugatti-Veyron_16.4_Convertible-2009',\n",
       " 45: 'Bugatti-Veyron_16.4_Coupe-2009',\n",
       " 46: 'Buick-Enclave_SUV-2012',\n",
       " 47: 'Buick-Rainier_SUV-2007',\n",
       " 48: 'Buick-Regal_GS-2012',\n",
       " 49: 'Buick-Verano_Sedan-2012',\n",
       " 50: 'Cadillac-CTS_V_Sedan-2012',\n",
       " 51: 'Cadillac-Escalade_EXT_Crew_Cab-2007',\n",
       " 52: 'Cadillac-SRX_SUV-2012',\n",
       " 53: 'Chevrolet-Avalanche_Crew_Cab-2012',\n",
       " 54: 'Chevrolet-Camaro_Convertible-2012',\n",
       " 55: 'Chevrolet-Cobalt_SS-2010',\n",
       " 56: 'Chevrolet-Corvette_Convertible-2012',\n",
       " 57: 'Chevrolet-Corvette_Ron_Fellows_Edition_Z06-2007',\n",
       " 58: 'Chevrolet-Corvette_ZR1-2012',\n",
       " 59: 'Chevrolet-Express_Cargo_Van-2007',\n",
       " 60: 'Chevrolet-Express_Van-2007',\n",
       " 61: 'Chevrolet-HHR_SS-2010',\n",
       " 62: 'Chevrolet-Impala_Sedan-2007',\n",
       " 63: 'Chevrolet-Malibu_Hybrid_Sedan-2010',\n",
       " 64: 'Chevrolet-Malibu_Sedan-2007',\n",
       " 65: 'Chevrolet-Monte_Carlo_Coupe-2007',\n",
       " 66: 'Chevrolet-Silverado_1500_Classic_Extended_Cab-2007',\n",
       " 67: 'Chevrolet-Silverado_1500_Extended_Cab-2012',\n",
       " 68: 'Chevrolet-Silverado_1500_Hybrid_Crew_Cab-2012',\n",
       " 69: 'Chevrolet-Silverado_1500_Regular_Cab-2012',\n",
       " 70: 'Chevrolet-Silverado_2500HD_Regular_Cab-2012',\n",
       " 71: 'Chevrolet-Sonic_Sedan-2012',\n",
       " 72: 'Chevrolet-Tahoe_Hybrid_SUV-2012',\n",
       " 73: 'Chevrolet-TrailBlazer_SS-2009',\n",
       " 74: 'Chevrolet-Traverse_SUV-2012',\n",
       " 75: 'Chrysler-300_SRT_8-2010',\n",
       " 76: 'Chrysler-Aspen_SUV-2009',\n",
       " 77: 'Chrysler-Crossfire_Convertible-2008',\n",
       " 78: 'Chrysler-PT_Cruiser_Convertible-2008',\n",
       " 79: 'Chrysler-Sebring_Convertible-2010',\n",
       " 80: 'Chrysler-Town_and_Country_Minivan-2012',\n",
       " 81: 'Daewoo-Nubira_Wagon-2002',\n",
       " 82: 'Dodge-Caliber_Wagon-2007',\n",
       " 83: 'Dodge-Caliber_Wagon-2012',\n",
       " 84: 'Dodge-Caravan_Minivan-1997',\n",
       " 85: 'Dodge-Challenger_SRT8-2011',\n",
       " 86: 'Dodge-Charger_SRT_8-2009',\n",
       " 87: 'Dodge-Charger_Sedan-2012',\n",
       " 88: 'Dodge-Dakota_Club_Cab-2007',\n",
       " 89: 'Dodge-Dakota_Crew_Cab-2010',\n",
       " 90: 'Dodge-Durango_SUV-2007',\n",
       " 91: 'Dodge-Durango_SUV-2012',\n",
       " 92: 'Dodge-Journey_SUV-2012',\n",
       " 93: 'Dodge-Magnum_Wagon-2008',\n",
       " 94: 'Dodge-Ram_C_V_Cargo_Van_Minivan-2012',\n",
       " 95: 'Dodge-Ram_Pickup_3500_Crew_Cab-2010',\n",
       " 96: 'Dodge-Ram_Pickup_3500_Quad_Cab-2009',\n",
       " 97: 'Dodge-Sprinter_Cargo_Van-2009',\n",
       " 98: 'Eagle-Talon_Hatchback-1998',\n",
       " 99: 'FIAT-500_Abarth-2012',\n",
       " 100: 'FIAT-500_Convertible-2012',\n",
       " 101: 'Ferrari-458_Italia_Convertible-2012',\n",
       " 102: 'Ferrari-458_Italia_Coupe-2012',\n",
       " 103: 'Ferrari-California_Convertible-2012',\n",
       " 104: 'Ferrari-FF_Coupe-2012',\n",
       " 105: 'Fisker-Karma_Sedan-2012',\n",
       " 106: 'Ford-E_Series_Wagon_Van-2012',\n",
       " 107: 'Ford-Edge_SUV-2012',\n",
       " 108: 'Ford-Expedition_EL_SUV-2009',\n",
       " 109: 'Ford-F_150_Regular_Cab-2007',\n",
       " 110: 'Ford-F_150_Regular_Cab-2012',\n",
       " 111: 'Ford-F_450_Super_Duty_Crew_Cab-2012',\n",
       " 112: 'Ford-Fiesta_Sedan-2012',\n",
       " 113: 'Ford-Focus_Sedan-2007',\n",
       " 114: 'Ford-Freestar_Minivan-2007',\n",
       " 115: 'Ford-GT_Coupe-2006',\n",
       " 116: 'Ford-Mustang_Convertible-2007',\n",
       " 117: 'Ford-Ranger_SuperCab-2011',\n",
       " 118: 'GMC-Acadia_SUV-2012',\n",
       " 119: 'GMC-Canyon_Extended_Cab-2012',\n",
       " 120: 'GMC-Savana_Van-2012',\n",
       " 121: 'GMC-Terrain_SUV-2012',\n",
       " 122: 'GMC-Yukon_Hybrid_SUV-2012',\n",
       " 123: 'Geo-Metro_Convertible-1993',\n",
       " 124: 'HUMMER-H2_SUT_Crew_Cab-2009',\n",
       " 125: 'HUMMER-H3T_Crew_Cab-2010',\n",
       " 126: 'Honda-Accord_Coupe-2012',\n",
       " 127: 'Honda-Accord_Sedan-2012',\n",
       " 128: 'Honda-Odyssey_Minivan-2007',\n",
       " 129: 'Honda-Odyssey_Minivan-2012',\n",
       " 130: 'Hyundai-Accent_Sedan-2012',\n",
       " 131: 'Hyundai-Azera_Sedan-2012',\n",
       " 132: 'Hyundai-Elantra_Sedan-2007',\n",
       " 133: 'Hyundai-Elantra_Touring_Hatchback-2012',\n",
       " 134: 'Hyundai-Genesis_Sedan-2012',\n",
       " 135: 'Hyundai-Santa_Fe_SUV-2012',\n",
       " 136: 'Hyundai-Sonata_Hybrid_Sedan-2012',\n",
       " 137: 'Hyundai-Sonata_Sedan-2012',\n",
       " 138: 'Hyundai-Tucson_SUV-2012',\n",
       " 139: 'Hyundai-Veloster_Hatchback-2012',\n",
       " 140: 'Hyundai-Veracruz_SUV-2012',\n",
       " 141: 'Infiniti-G_Coupe_IPL-2012',\n",
       " 142: 'Infiniti-QX56_SUV-2011',\n",
       " 143: 'Isuzu-Ascender_SUV-2008',\n",
       " 144: 'Jaguar-XK_XKR-2012',\n",
       " 145: 'Jeep-Compass_SUV-2012',\n",
       " 146: 'Jeep-Grand_Cherokee_SUV-2012',\n",
       " 147: 'Jeep-Liberty_SUV-2012',\n",
       " 148: 'Jeep-Patriot_SUV-2012',\n",
       " 149: 'Jeep-Wrangler_SUV-2012',\n",
       " 150: 'Lamborghini-Aventador_Coupe-2012',\n",
       " 151: 'Lamborghini-Diablo_Coupe-2001',\n",
       " 152: 'Lamborghini-Gallardo_LP_570_4_Superleggera-2012',\n",
       " 153: 'Lamborghini-Reventon_Coupe-2008',\n",
       " 154: 'Land_Rover-Rover_LR2_SUV-2012',\n",
       " 155: 'Land_Rover-Rover_Range_Rover_SUV-2012',\n",
       " 156: 'Lincoln-Town_Car_Sedan-2011',\n",
       " 157: 'MINI-Cooper_Roadster_Convertible-2012',\n",
       " 158: 'Maybach-Landaulet_Convertible-2012',\n",
       " 159: 'Mazda-Tribute_SUV-2011',\n",
       " 160: 'McLaren-MP4_12C_Coupe-2012',\n",
       " 161: 'Mercedes_Benz-300_Class_Convertible-1993',\n",
       " 162: 'Mercedes_Benz-C_Class_Sedan-2012',\n",
       " 163: 'Mercedes_Benz-E_Class_Sedan-2012',\n",
       " 164: 'Mercedes_Benz-SL_Class_Coupe-2009',\n",
       " 165: 'Mercedes_Benz-S_Class_Sedan-2012',\n",
       " 166: 'Mercedes_Benz-Sprinter_Van-2012',\n",
       " 167: 'Mitsubishi-Lancer_Sedan-2012',\n",
       " 168: 'Nissan-240SX_Coupe-1998',\n",
       " 169: 'Nissan-Juke_Hatchback-2012',\n",
       " 170: 'Nissan-Leaf_Hatchback-2012',\n",
       " 171: 'Nissan-NV_Passenger_Van-2012',\n",
       " 172: 'Plymouth-Neon_Coupe-1999',\n",
       " 173: 'Porsche-Panamera_Sedan-2012',\n",
       " 174: 'Rolls_Royce-Ghost_Sedan-2012',\n",
       " 175: 'Rolls_Royce-Phantom_Drophead_Coupe_Convertible-2012',\n",
       " 176: 'Rolls_Royce-Phantom_Sedan-2012',\n",
       " 177: 'Scion-xD_Hatchback-2012',\n",
       " 178: 'Spyker-C8_Convertible-2009',\n",
       " 179: 'Spyker-C8_Coupe-2009',\n",
       " 180: 'Suzuki-Aerio_Sedan-2007',\n",
       " 181: 'Suzuki-Kizashi_Sedan-2012',\n",
       " 182: 'Suzuki-SX4_Hatchback-2012',\n",
       " 183: 'Suzuki-SX4_Sedan-2012',\n",
       " 184: 'Tesla-Model_S_Sedan-2012',\n",
       " 185: 'Toyota-4Runner_SUV-2012',\n",
       " 186: 'Toyota-Camry_Sedan-2012',\n",
       " 187: 'Toyota-Corolla_Sedan-2012',\n",
       " 188: 'Toyota-Sequoia_SUV-2012',\n",
       " 189: 'Volkswagen-Beetle_Hatchback-2012',\n",
       " 190: 'Volkswagen-Golf_Hatchback-1991',\n",
       " 191: 'Volkswagen-Golf_Hatchback-2012',\n",
       " 192: 'Volvo-240_Sedan-1993',\n",
       " 193: 'Volvo-C30_Hatchback-2012',\n",
       " 194: 'Volvo-XC90_SUV-2007',\n",
       " 195: 'smart-fortwo_Convertible-2012'}"
      ]
     },
     "execution_count": 22,
     "metadata": {},
     "output_type": "execute_result"
    }
   ],
   "source": [
    "lookup_dicto = {value: key for key, value in test_generator.class_indices.items()}\n",
    "lookup_dicto"
   ]
  },
  {
   "cell_type": "code",
   "execution_count": 6,
   "metadata": {},
   "outputs": [
    {
     "name": "stdout",
     "output_type": "stream",
     "text": [
      "\n",
      "********** pickle file already exists **********\n",
      "\n"
     ]
    }
   ],
   "source": [
    "# Save label indices for later \n",
    "pickle_variable_to_path(test_generator.class_indices, 'class_indices', SAVE_DIR)"
   ]
  },
  {
   "cell_type": "code",
   "execution_count": 31,
   "metadata": {},
   "outputs": [
    {
     "name": "stdout",
     "output_type": "stream",
     "text": [
      "\n",
      "********** pickle file already exists **********\n",
      "\n"
     ]
    }
   ],
   "source": [
    "pickle_variable_to_path(lookup_dicto, 'lookup_dicto', SAVE_DIR)"
   ]
  },
  {
   "cell_type": "markdown",
   "metadata": {},
   "source": [
    "## Model definition"
   ]
  },
  {
   "cell_type": "code",
   "execution_count": 7,
   "metadata": {},
   "outputs": [],
   "source": [
    "from keras.applications import InceptionV3\n",
    "\n",
    "conv_base = InceptionV3(\n",
    "    weights='imagenet',\n",
    "    include_top=False,\n",
    "    pooling='avg',\n",
    "    input_shape=INPUT_SHAPE\n",
    ")"
   ]
  },
  {
   "cell_type": "code",
   "execution_count": 8,
   "metadata": {},
   "outputs": [],
   "source": [
    "pred_layer_config = {\n",
    "    'activation': 'softmax',\n",
    "    'activity_regularizer': None,\n",
    "    'bias_constraint': None,\n",
    "    'bias_initializer': {'class_name': 'Zeros', 'config': {}},\n",
    "    'bias_regularizer': None,\n",
    "    'kernel_constraint': None,\n",
    "    'kernel_initializer': {'class_name': 'VarianceScaling',\n",
    "                           'config': {\n",
    "                               'distribution': 'uniform',\n",
    "                               'mode': 'fan_avg',\n",
    "                               'scale': 1.0,\n",
    "                               'seed': 8}\n",
    "                          },\n",
    "    'kernel_regularizer': None,\n",
    "    'name': 'predictions',\n",
    "    'trainable': True,\n",
    "    'units': NB_CLASSES,\n",
    "    'use_bias': True}\n",
    "\n",
    "model = Sequential()\n",
    "model.add(conv_base)\n",
    "model.add(Dense(**pred_layer_config))"
   ]
  },
  {
   "cell_type": "code",
   "execution_count": 9,
   "metadata": {},
   "outputs": [],
   "source": [
    "WEIGHT_PATH = os.path.join(WORKING_DIR, 'data', 'InceptionV3', 'InceptionV3_13_10_20.h5')\n",
    "model.load_weights(WEIGHT_PATH)"
   ]
  },
  {
   "cell_type": "code",
   "execution_count": 26,
   "metadata": {},
   "outputs": [],
   "source": [
    "from keras.preprocessing.image import load_img, img_to_array\n",
    "\n",
    "input_image = load_img(os.path.join(os.path.expanduser('~'), 'Dropbox','projects',\n",
    "                                    'django','cars','media','uploads',\n",
    "                                    'Dodge-Ram_Pickup_3500_Crew_Cab-2010.jpg'), \n",
    "                       target_size=(IMG_HEIGHT, IMG_WIDTH))\n",
    "input_image = img_to_array(input_image)\n",
    "# the images are scaled during training so they need to be scaled for predictions too\n",
    "input_image = input_image/255.\n",
    "input_image = np.expand_dims(input_image, axis=0)"
   ]
  },
  {
   "cell_type": "code",
   "execution_count": 27,
   "metadata": {},
   "outputs": [],
   "source": [
    "prediction = model.predict(input_image)"
   ]
  },
  {
   "cell_type": "code",
   "execution_count": 28,
   "metadata": {},
   "outputs": [
    {
     "data": {
      "text/plain": [
       "array([ 91, 195,  60])"
      ]
     },
     "execution_count": 28,
     "metadata": {},
     "output_type": "execute_result"
    }
   ],
   "source": [
    "top_3 = prediction[0].argsort()[-3:][::-1]\n",
    "top_3"
   ]
  },
  {
   "cell_type": "code",
   "execution_count": 29,
   "metadata": {},
   "outputs": [
    {
     "name": "stdout",
     "output_type": "stream",
     "text": [
      "Dodge-Durango_SUV-2012\n",
      "smart-fortwo_Convertible-2012\n",
      "Chevrolet-Express_Van-2007\n"
     ]
    }
   ],
   "source": [
    "for idx in top_3:\n",
    "    print(lookup_dicto.get(idx))"
   ]
  }
 ],
 "metadata": {
  "kernelspec": {
   "display_name": "Python 3",
   "language": "python",
   "name": "python3"
  },
  "language_info": {
   "codemirror_mode": {
    "name": "ipython",
    "version": 3
   },
   "file_extension": ".py",
   "mimetype": "text/x-python",
   "name": "python",
   "nbconvert_exporter": "python",
   "pygments_lexer": "ipython3",
   "version": "3.6.3"
  }
 },
 "nbformat": 4,
 "nbformat_minor": 2
}
