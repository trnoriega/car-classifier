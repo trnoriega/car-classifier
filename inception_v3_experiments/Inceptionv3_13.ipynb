{
 "cells": [
  {
   "cell_type": "markdown",
   "metadata": {},
   "source": [
    "# Testing InceptionV3 network (variation 13)\n",
    "\n",
    "Based on variant 7:\n",
    "\n",
    "`optimizers.Nadam(lr=0.002, beta_1=0.9, beta_2=0.999, schedule_decay=0.004)`"
   ]
  },
  {
   "cell_type": "code",
   "execution_count": 1,
   "metadata": {},
   "outputs": [
    {
     "name": "stderr",
     "output_type": "stream",
     "text": [
      "Using TensorFlow backend.\n"
     ]
    }
   ],
   "source": [
    "import os\n",
    "import time\n",
    "import pickle\n",
    "\n",
    "import numpy as np\n",
    "\n",
    "from keras.preprocessing.image import ImageDataGenerator\n",
    "from keras.models import Sequential\n",
    "from keras.layers import Conv2D, MaxPooling2D, Activation, Dropout, Flatten, Dense\n",
    "from keras import backend as K\n",
    "from keras import metrics\n",
    "\n",
    "# custom tools\n",
    "import sys\n",
    "sys.path.insert(0, \"../\")\n",
    "\n",
    "from custom.tools import time_save_model, plot_metrics"
   ]
  },
  {
   "cell_type": "markdown",
   "metadata": {},
   "source": [
    "### BASIC  IMAGE, AND BATCH SETUP"
   ]
  },
  {
   "cell_type": "code",
   "execution_count": 2,
   "metadata": {},
   "outputs": [],
   "source": [
    "# Image dimensions:\n",
    "IMG_WIDTH, IMG_HEIGHT = 299, 299\n",
    "\n",
    "WORKING_DIR = os.getcwd()\n",
    "BASE = os.path.join(WORKING_DIR, 'data', 'cars_dataset', 'keras')\n",
    "\n",
    "SAVE_DIR = os.path.join(WORKING_DIR, 'data', 'InceptionV3')\n",
    "\n",
    "### Settings for full training\n",
    "TRAIN_DATA_DIR = os.path.join(BASE, 'train')\n",
    "VALIDATION_DATA_DIR = os.path.join(BASE, 'validation')\n",
    "NB_CLASSES = 196\n",
    "NB_TRAIN_SAMPLES = 11329\n",
    "NB_VALIDATION_SAMPLES = 2428\n",
    "BATCH_SIZE = 32\n",
    "\n",
    "### Settings for fast checking\n",
    "# SAVE_DIR = os.path.join(WORKING_DIR, 'data', 'fast_test')\n",
    "# TRAIN_DATA_DIR = os.path.join(BASE, 'fast', 'train')\n",
    "# VALIDATION_DATA_DIR = os.path.join(BASE, 'fast', 'validation')\n",
    "# NB_CLASSES = 196\n",
    "# NB_TRAIN_SAMPLES = NB_CLASSES*2\n",
    "# NB_VALIDATION_SAMPLES = NB_CLASSES\n",
    "# BATCH_SIZE = 4\n",
    "\n",
    "### Settings for faster checking\n",
    "# SAVE_DIR = os.path.join(WORKING_DIR, 'data', 'fast_v2_test')\n",
    "# TRAIN_DATA_DIR = os.path.join(BASE, 'fast_v2', 'train')\n",
    "# VALIDATION_DATA_DIR = os.path.join(BASE, 'fast_v2', 'validation')\n",
    "# NB_CLASSES = 6\n",
    "# NB_TRAIN_SAMPLES = NB_CLASSES*2\n",
    "# NB_VALIDATION_SAMPLES = NB_CLASSES\n",
    "# BATCH_SIZE = 4\n",
    "\n",
    "if K.image_data_format() == 'channels_first':\n",
    "    INPUT_SHAPE = (3, IMG_WIDTH, IMG_HEIGHT)\n",
    "else:\n",
    "    INPUT_SHAPE = (IMG_WIDTH, IMG_HEIGHT, 3)"
   ]
  },
  {
   "cell_type": "code",
   "execution_count": 3,
   "metadata": {},
   "outputs": [],
   "source": [
    "from keras.applications import InceptionV3\n",
    "\n",
    "conv_base = InceptionV3(\n",
    "    weights='imagenet',\n",
    "    include_top=False,\n",
    "    pooling='avg',\n",
    "    input_shape=INPUT_SHAPE\n",
    ")"
   ]
  },
  {
   "cell_type": "code",
   "execution_count": 4,
   "metadata": {},
   "outputs": [
    {
     "name": "stdout",
     "output_type": "stream",
     "text": [
      "This is the number of trainable weights before freezing the conv base: 190\n",
      "This is the number of trainable weights after freezing the conv base: 2\n"
     ]
    }
   ],
   "source": [
    "pred_layer_config = {\n",
    "    'activation': 'softmax',\n",
    "    'activity_regularizer': None,\n",
    "    'bias_constraint': None,\n",
    "    'bias_initializer': {'class_name': 'Zeros', 'config': {}},\n",
    "    'bias_regularizer': None,\n",
    "    'kernel_constraint': None,\n",
    "    'kernel_initializer': {'class_name': 'VarianceScaling',\n",
    "                           'config': {\n",
    "                               'distribution': 'uniform',\n",
    "                               'mode': 'fan_avg',\n",
    "                               'scale': 1.0,\n",
    "                               'seed': 8}\n",
    "                          },\n",
    "    'kernel_regularizer': None,\n",
    "    'name': 'predictions',\n",
    "    'trainable': True,\n",
    "    'units': NB_CLASSES,\n",
    "    'use_bias': True}\n",
    "\n",
    "model = Sequential()\n",
    "model.add(conv_base)\n",
    "model.add(Dense(**pred_layer_config))\n",
    "\n",
    "conv_base.trainable = True\n",
    "print('This is the number of trainable weights '\n",
    "      'before freezing the conv base:', len(model.trainable_weights))\n",
    "conv_base.trainable = False\n",
    "print('This is the number of trainable weights '\n",
    "      'after freezing the conv base:', len(model.trainable_weights))"
   ]
  },
  {
   "cell_type": "code",
   "execution_count": 5,
   "metadata": {},
   "outputs": [
    {
     "name": "stdout",
     "output_type": "stream",
     "text": [
      "_________________________________________________________________\n",
      "Layer (type)                 Output Shape              Param #   \n",
      "=================================================================\n",
      "inception_v3 (Model)         (None, 2048)              21802784  \n",
      "_________________________________________________________________\n",
      "predictions (Dense)          (None, 196)               401604    \n",
      "=================================================================\n",
      "Total params: 22,204,388\n",
      "Trainable params: 401,604\n",
      "Non-trainable params: 21,802,784\n",
      "_________________________________________________________________\n"
     ]
    }
   ],
   "source": [
    "model.summary()"
   ]
  },
  {
   "cell_type": "code",
   "execution_count": 6,
   "metadata": {},
   "outputs": [],
   "source": [
    "train_datagen = ImageDataGenerator(rescale=1/255,\n",
    "                                   rotation_range=40,\n",
    "                                   width_shift_range=0.2,\n",
    "                                   height_shift_range=0.2,\n",
    "                                   shear_range=0.2,\n",
    "                                   zoom_range=0.2,\n",
    "                                   horizontal_flip=True,\n",
    "                                   fill_mode='nearest')\n",
    "\n",
    "test_datagen = ImageDataGenerator(rescale=1/255)"
   ]
  },
  {
   "cell_type": "code",
   "execution_count": 7,
   "metadata": {},
   "outputs": [
    {
     "name": "stdout",
     "output_type": "stream",
     "text": [
      "Found 11329 images belonging to 196 classes.\n",
      "Found 2428 images belonging to 196 classes.\n"
     ]
    }
   ],
   "source": [
    "train_generator = train_datagen.flow_from_directory(\n",
    "    TRAIN_DATA_DIR,\n",
    "    target_size=(IMG_WIDTH, IMG_HEIGHT),\n",
    "    batch_size=BATCH_SIZE,\n",
    "    class_mode='categorical',\n",
    "    seed=7)\n",
    "\n",
    "validation_generator = test_datagen.flow_from_directory(\n",
    "    VALIDATION_DATA_DIR,\n",
    "    target_size=(IMG_WIDTH, IMG_HEIGHT),\n",
    "    batch_size=BATCH_SIZE,\n",
    "    class_mode='categorical',\n",
    "    seed=13)"
   ]
  },
  {
   "cell_type": "markdown",
   "metadata": {},
   "source": [
    "Define custom metrics to measure"
   ]
  },
  {
   "cell_type": "code",
   "execution_count": 8,
   "metadata": {},
   "outputs": [],
   "source": [
    "def top_3_acc(y_true, y_pred):\n",
    "    return metrics.top_k_categorical_accuracy(y_true, y_pred, k=3)\n",
    "\n",
    "def top_5_acc(y_true, y_pred):\n",
    "    return metrics.top_k_categorical_accuracy(y_true, y_pred, k=5)"
   ]
  },
  {
   "cell_type": "code",
   "execution_count": 9,
   "metadata": {},
   "outputs": [],
   "source": [
    "from keras import optimizers\n",
    "\n",
    "optimizer = optimizers.Nadam(lr=0.002, beta_1=0.9, beta_2=0.999, schedule_decay=0.004)\n",
    "\n",
    "model.compile(loss='categorical_crossentropy',\n",
    "              optimizer=optimizer,\n",
    "              metrics=[metrics.categorical_accuracy, top_3_acc, top_5_acc])"
   ]
  },
  {
   "cell_type": "code",
   "execution_count": 12,
   "metadata": {
    "scrolled": true
   },
   "outputs": [
    {
     "name": "stdout",
     "output_type": "stream",
     "text": [
      "Epoch 1/10\n",
      "354/354 [==============================] - 285s 804ms/step - loss: 2.6402 - categorical_accuracy: 0.3701 - top_3_acc: 0.5661 - top_5_acc: 0.6555 - val_loss: 3.0476 - val_categorical_accuracy: 0.2938 - val_top_3_acc: 0.4792 - val_top_5_acc: 0.5679\n",
      "Epoch 2/10\n",
      "354/354 [==============================] - 287s 810ms/step - loss: 2.6103 - categorical_accuracy: 0.3804 - top_3_acc: 0.5784 - top_5_acc: 0.6644 - val_loss: 2.9650 - val_categorical_accuracy: 0.2946 - val_top_3_acc: 0.4854 - val_top_5_acc: 0.5742\n",
      "Epoch 3/10\n",
      "354/354 [==============================] - 287s 812ms/step - loss: 2.5542 - categorical_accuracy: 0.3887 - top_3_acc: 0.5860 - top_5_acc: 0.6724 - val_loss: 2.9993 - val_categorical_accuracy: 0.2958 - val_top_3_acc: 0.4850 - val_top_5_acc: 0.5825\n",
      "Epoch 4/10\n",
      "354/354 [==============================] - 284s 801ms/step - loss: 2.4858 - categorical_accuracy: 0.4032 - top_3_acc: 0.6031 - top_5_acc: 0.6898 - val_loss: 2.9467 - val_categorical_accuracy: 0.3063 - val_top_3_acc: 0.4946 - val_top_5_acc: 0.5904\n",
      "Epoch 5/10\n",
      "354/354 [==============================] - 286s 809ms/step - loss: 2.4645 - categorical_accuracy: 0.4081 - top_3_acc: 0.6121 - top_5_acc: 0.6952 - val_loss: 3.0464 - val_categorical_accuracy: 0.2846 - val_top_3_acc: 0.4783 - val_top_5_acc: 0.5767\n",
      "Epoch 6/10\n",
      "354/354 [==============================] - 285s 806ms/step - loss: 2.4637 - categorical_accuracy: 0.4029 - top_3_acc: 0.6074 - top_5_acc: 0.6939 - val_loss: 2.9867 - val_categorical_accuracy: 0.3079 - val_top_3_acc: 0.4975 - val_top_5_acc: 0.5858\n",
      "Epoch 7/10\n",
      "354/354 [==============================] - 285s 804ms/step - loss: 2.4067 - categorical_accuracy: 0.4175 - top_3_acc: 0.6191 - top_5_acc: 0.7040 - val_loss: 2.9779 - val_categorical_accuracy: 0.3063 - val_top_3_acc: 0.4983 - val_top_5_acc: 0.6012\n",
      "Epoch 8/10\n",
      "354/354 [==============================] - 286s 808ms/step - loss: 2.3791 - categorical_accuracy: 0.4200 - top_3_acc: 0.6243 - top_5_acc: 0.7100 - val_loss: 2.9950 - val_categorical_accuracy: 0.3063 - val_top_3_acc: 0.5021 - val_top_5_acc: 0.5962\n",
      "Epoch 9/10\n",
      "354/354 [==============================] - 287s 811ms/step - loss: 2.3585 - categorical_accuracy: 0.4274 - top_3_acc: 0.6307 - top_5_acc: 0.7150 - val_loss: 2.9204 - val_categorical_accuracy: 0.3142 - val_top_3_acc: 0.5204 - val_top_5_acc: 0.6075\n",
      "Epoch 10/10\n",
      "354/354 [==============================] - 283s 799ms/step - loss: 2.3029 - categorical_accuracy: 0.4384 - top_3_acc: 0.6386 - top_5_acc: 0.7258 - val_loss: 3.0525 - val_categorical_accuracy: 0.2975 - val_top_3_acc: 0.4954 - val_top_5_acc: 0.5829\n"
     ]
    }
   ],
   "source": [
    "EPOCHS = 10\n",
    "start_time = time.time()\n",
    "summary = model.fit_generator(\n",
    "    train_generator,\n",
    "    steps_per_epoch=NB_TRAIN_SAMPLES // BATCH_SIZE,\n",
    "    epochs=EPOCHS,\n",
    "    validation_data=validation_generator,\n",
    "    validation_steps=NB_VALIDATION_SAMPLES // BATCH_SIZE)\n",
    "end_time = time.time()"
   ]
  },
  {
   "cell_type": "code",
   "execution_count": 13,
   "metadata": {},
   "outputs": [
    {
     "name": "stdout",
     "output_type": "stream",
     "text": [
      "traing took: 48.0 minutes\n"
     ]
    }
   ],
   "source": [
    "time_save_model(model,\n",
    "                summary.history,\n",
    "                start_time, end_time,\n",
    "                'InceptionV3_13_10_20',\n",
    "                SAVE_DIR)"
   ]
  },
  {
   "cell_type": "code",
   "execution_count": null,
   "metadata": {
    "scrolled": true
   },
   "outputs": [],
   "source": [
    "key_list = ['categorical_accuracy',\n",
    "            'top_3_acc',\n",
    "            'top_5_acc',\n",
    "            'loss']\n",
    "show = plot_metrics(summary.history, key_list)"
   ]
  }
 ],
 "metadata": {
  "kernelspec": {
   "display_name": "Python 3",
   "language": "python",
   "name": "python3"
  },
  "language_info": {
   "codemirror_mode": {
    "name": "ipython",
    "version": 3
   },
   "file_extension": ".py",
   "mimetype": "text/x-python",
   "name": "python",
   "nbconvert_exporter": "python",
   "pygments_lexer": "ipython3",
   "version": "3.6.3"
  }
 },
 "nbformat": 4,
 "nbformat_minor": 2
}
