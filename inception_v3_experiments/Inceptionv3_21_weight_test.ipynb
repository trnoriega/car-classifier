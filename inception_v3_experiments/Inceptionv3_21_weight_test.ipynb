{
 "cells": [
  {
   "cell_type": "markdown",
   "metadata": {},
   "source": [
    "# Testing  weights learned in [Inceptionv3_21](Inceptionv3_21.ipynb)"
   ]
  },
  {
   "cell_type": "code",
   "execution_count": 1,
   "metadata": {},
   "outputs": [
    {
     "name": "stderr",
     "output_type": "stream",
     "text": [
      "Using TensorFlow backend.\n",
      "/home/ubuntu/anaconda3/envs/tensorflow_p36/lib/python3.6/importlib/_bootstrap.py:219: RuntimeWarning: compiletime version 3.5 of module 'tensorflow.python.framework.fast_tensor_util' does not match runtime version 3.6\n",
      "  return f(*args, **kwds)\n"
     ]
    }
   ],
   "source": [
    "import os\n",
    "import pickle\n",
    "\n",
    "import numpy as np\n",
    "\n",
    "from keras import backend as K\n",
    "from keras.layers import Conv2D, Dropout, Dense\n",
    "from keras.models import Sequential, model_from_json\n",
    "from keras.preprocessing.image import load_img, img_to_array\n",
    "\n",
    "from cars_utils import time_save_model, plot_metrics, pickle_variable_to_path"
   ]
  },
  {
   "cell_type": "markdown",
   "metadata": {},
   "source": [
    "## Image, directory, and batch setup"
   ]
  },
  {
   "cell_type": "code",
   "execution_count": 2,
   "metadata": {},
   "outputs": [],
   "source": [
    "# Image dimensions:\n",
    "IMG_WIDTH, IMG_HEIGHT = 299, 299\n",
    "\n",
    "WORKING_DIR = os.getcwd()\n",
    "BASE = os.path.join(WORKING_DIR, 'data', 'cars_dataset', 'keras')\n",
    "SAVE_DIR = os.path.join(WORKING_DIR, 'data', 'InceptionV3')\n",
    "PREDICT_DIR = os.path.join(WORKING_DIR, 'data', 'predict_me')\n",
    "LOOKUP_PATH = os.path.join(SAVE_DIR, 'I_15_lookup_dict.pkl')\n",
    "\n",
    "NB_CLASSES = 196\n",
    "\n",
    "if K.image_data_format() == 'channels_first':\n",
    "    INPUT_SHAPE = (3, IMG_WIDTH, IMG_HEIGHT)\n",
    "else:\n",
    "    INPUT_SHAPE = (IMG_WIDTH, IMG_HEIGHT, 3)"
   ]
  },
  {
   "cell_type": "markdown",
   "metadata": {},
   "source": [
    "## Model definition"
   ]
  },
  {
   "cell_type": "code",
   "execution_count": 6,
   "metadata": {},
   "outputs": [],
   "source": [
    "from keras.applications import InceptionV3\n",
    "\n",
    "conv_base = InceptionV3(\n",
    "    weights='imagenet',\n",
    "    include_top=False,\n",
    "    pooling='avg',\n",
    "    input_shape=INPUT_SHAPE\n",
    ")"
   ]
  },
  {
   "cell_type": "code",
   "execution_count": 7,
   "metadata": {},
   "outputs": [],
   "source": [
    "pred_layer_config = {\n",
    "    'activation': 'softmax',\n",
    "    'activity_regularizer': None,\n",
    "    'bias_constraint': None,\n",
    "    'bias_initializer': {'class_name': 'Zeros', 'config': {}},\n",
    "    'bias_regularizer': None,\n",
    "    'kernel_constraint': None,\n",
    "    'kernel_initializer': {'class_name': 'VarianceScaling',\n",
    "                           'config': {\n",
    "                               'distribution': 'uniform',\n",
    "                               'mode': 'fan_avg',\n",
    "                               'scale': 1.0,\n",
    "                               'seed': 8}\n",
    "                          },\n",
    "    'kernel_regularizer': None,\n",
    "    'name': 'predictions',\n",
    "    'trainable': True,\n",
    "    'units': NB_CLASSES,\n",
    "    'use_bias': True}\n",
    "\n",
    "model = Sequential()\n",
    "model.add(conv_base)\n",
    "model.add(Dropout(0.5, seed=21))\n",
    "model.add(Dense(**pred_layer_config))"
   ]
  },
  {
   "cell_type": "markdown",
   "metadata": {},
   "source": [
    "## First round of training"
   ]
  },
  {
   "cell_type": "code",
   "execution_count": 8,
   "metadata": {},
   "outputs": [],
   "source": [
    "WEIGHT_PATH = os.path.join(SAVE_DIR, 'InceptionV3_21_0_10.h5')\n",
    "model.load_weights(WEIGHT_PATH)"
   ]
  },
  {
   "cell_type": "code",
   "execution_count": 9,
   "metadata": {},
   "outputs": [
    {
     "name": "stdout",
     "output_type": "stream",
     "text": [
      "_________________________________________________________________\n",
      "Layer (type)                 Output Shape              Param #   \n",
      "=================================================================\n",
      "inception_v3 (Model)         (None, 2048)              21802784  \n",
      "_________________________________________________________________\n",
      "dropout_1 (Dropout)          (None, 2048)              0         \n",
      "_________________________________________________________________\n",
      "predictions (Dense)          (None, 196)               401604    \n",
      "=================================================================\n",
      "Total params: 22,204,388\n",
      "Trainable params: 22,169,956\n",
      "Non-trainable params: 34,432\n",
      "_________________________________________________________________\n"
     ]
    }
   ],
   "source": [
    "model.summary()"
   ]
  },
  {
   "cell_type": "markdown",
   "metadata": {},
   "source": [
    "### Predict!"
   ]
  },
  {
   "cell_type": "code",
   "execution_count": 13,
   "metadata": {},
   "outputs": [
    {
     "name": "stdout",
     "output_type": "stream",
     "text": [
      "\n",
      "Predictions for Audi-100_Sedan-1994.jpg:\n",
      "Mercedes_Benz-300_Class_Convertible-1993\n",
      "Lincoln-Town_Car_Sedan-2011\n",
      "Audi-100_Sedan-1994\n",
      "\n",
      "Predictions for Aston_Martin-Martin_V8_Vantage_Convertible-2012.jpg:\n",
      "Aston_Martin-Martin_Virage_Convertible-2012\n",
      "BMW-6_Series_Convertible-2007\n",
      "Chevrolet-Corvette_ZR1-2012\n",
      "\n",
      "Predictions for Dodge-Ram_Pickup_3500_Crew_Cab-2010.jpg:\n",
      "Dodge-Ram_Pickup_3500_Crew_Cab-2010\n",
      "Ford-F_450_Super_Duty_Crew_Cab-2012\n",
      "Ford-Expedition_EL_SUV-2009\n",
      "\n",
      "Predictions for AM-General_Hummer_SUV-2000.jpg:\n",
      "AM-General_Hummer_SUV-2000\n",
      "HUMMER-H2_SUT_Crew_Cab-2009\n",
      "Ford-F_450_Super_Duty_Crew_Cab-2012\n"
     ]
    }
   ],
   "source": [
    "test_file_list = [f for f in os.listdir(PREDICT_DIR) if\\\n",
    "                   os.path.isfile(os.path.join(PREDICT_DIR, f))]\n",
    "\n",
    "with open(LOOKUP_PATH, 'rb') as f:\n",
    "    lookup_dict = pickle.load(f)\n",
    "\n",
    "for test_file in test_file_list:\n",
    "    file_path = os.path.join(PREDICT_DIR, test_file)\n",
    "    input_image = load_img(file_path, \n",
    "                           target_size=(IMG_HEIGHT, IMG_WIDTH))\n",
    "    input_image = img_to_array(input_image)\n",
    "    # the images are scaled during training so they need to be scaled for predictions too\n",
    "    input_image = input_image/255.\n",
    "    input_image = np.expand_dims(input_image, axis=0)\n",
    "    prediction = model.predict(input_image)\n",
    "    top_3 = prediction[0].argsort()[-3:][::-1]\n",
    "    print('\\nPredictions for {}:'.format(test_file))\n",
    "    for idx in top_3:\n",
    "        print(lookup_dict.get(idx))"
   ]
  },
  {
   "cell_type": "markdown",
   "metadata": {},
   "source": [
    "## ROUND 2 of training (fine-tuned once)"
   ]
  },
  {
   "cell_type": "code",
   "execution_count": 3,
   "metadata": {},
   "outputs": [],
   "source": [
    "JSON_PATH = os.path.join(SAVE_DIR, 'InceptionV3_21_FT1_10_20.json')\n",
    "with open (JSON_PATH, 'r') as json_file:\n",
    "    loaded_model_json = json_file.read()\n",
    "\n",
    "json_model = model_from_json(loaded_model_json)"
   ]
  },
  {
   "cell_type": "code",
   "execution_count": 4,
   "metadata": {},
   "outputs": [],
   "source": [
    "WEIGHT_PATH = os.path.join(SAVE_DIR, 'InceptionV3_21_FT1_10_20.h5')\n",
    "json_model.load_weights(WEIGHT_PATH)"
   ]
  },
  {
   "cell_type": "markdown",
   "metadata": {},
   "source": [
    "### Predict!"
   ]
  },
  {
   "cell_type": "code",
   "execution_count": 5,
   "metadata": {},
   "outputs": [
    {
     "name": "stdout",
     "output_type": "stream",
     "text": [
      "\n",
      "Predictions for Audi-100_Sedan-1994.jpg:\n",
      "Audi-100_Sedan-1994\n",
      "Audi-100_Wagon-1994\n",
      "Audi-V8_Sedan-1994\n",
      "\n",
      "Predictions for Aston_Martin-Martin_V8_Vantage_Convertible-2012.jpg:\n",
      "Aston_Martin-Martin_V8_Vantage_Convertible-2012\n",
      "Aston_Martin-Martin_Virage_Convertible-2012\n",
      "Aston_Martin-Martin_V8_Vantage_Coupe-2012\n",
      "\n",
      "Predictions for Dodge-Ram_Pickup_3500_Crew_Cab-2010.jpg:\n",
      "Dodge-Ram_Pickup_3500_Crew_Cab-2010\n",
      "Dodge-Ram_Pickup_3500_Quad_Cab-2009\n",
      "Ford-E_Series_Wagon_Van-2012\n",
      "\n",
      "Predictions for AM-General_Hummer_SUV-2000.jpg:\n",
      "AM-General_Hummer_SUV-2000\n",
      "HUMMER-H2_SUT_Crew_Cab-2009\n",
      "HUMMER-H3T_Crew_Cab-2010\n"
     ]
    }
   ],
   "source": [
    "test_file_list = [f for f in os.listdir(PREDICT_DIR) if\\\n",
    "                   os.path.isfile(os.path.join(PREDICT_DIR, f))]\n",
    "\n",
    "with open(LOOKUP_PATH, 'rb') as f:\n",
    "    lookup_dict = pickle.load(f)\n",
    "\n",
    "for test_file in test_file_list:\n",
    "    file_path = os.path.join(PREDICT_DIR, test_file)\n",
    "    input_image = load_img(file_path, \n",
    "                           target_size=(IMG_HEIGHT, IMG_WIDTH))\n",
    "    input_image = img_to_array(input_image)\n",
    "    # the images are scaled during training so they need to be scaled for predictions too\n",
    "    input_image = input_image/255.\n",
    "    input_image = np.expand_dims(input_image, axis=0)\n",
    "    prediction = json_model.predict(input_image)\n",
    "    top_3 = prediction[0].argsort()[-3:][::-1]\n",
    "    print('\\nPredictions for {}:'.format(test_file))\n",
    "    for idx in top_3:\n",
    "        print(lookup_dict.get(idx))"
   ]
  },
  {
   "cell_type": "markdown",
   "metadata": {},
   "source": [
    "## ROUND 3 of training (fine-tuned twice)"
   ]
  },
  {
   "cell_type": "code",
   "execution_count": 3,
   "metadata": {},
   "outputs": [],
   "source": [
    "JSON_PATH = os.path.join(SAVE_DIR, 'InceptionV3_21_FT2_20_30.json')\n",
    "with open (JSON_PATH, 'r') as json_file:\n",
    "    loaded_model_json = json_file.read()\n",
    "\n",
    "json_model = model_from_json(loaded_model_json)"
   ]
  },
  {
   "cell_type": "code",
   "execution_count": 4,
   "metadata": {},
   "outputs": [],
   "source": [
    "WEIGHT_PATH = os.path.join(SAVE_DIR, 'InceptionV3_21_FT2_20_30.h5')\n",
    "json_model.load_weights(WEIGHT_PATH)"
   ]
  },
  {
   "cell_type": "markdown",
   "metadata": {},
   "source": [
    "### Predict!"
   ]
  },
  {
   "cell_type": "code",
   "execution_count": 5,
   "metadata": {},
   "outputs": [
    {
     "name": "stdout",
     "output_type": "stream",
     "text": [
      "\n",
      "Predictions for Audi-100_Sedan-1994.jpg:\n",
      "Audi-100_Sedan-1994\n",
      "Mercedes_Benz-300_Class_Convertible-1993\n",
      "Volvo-240_Sedan-1993\n",
      "\n",
      "Predictions for Aston_Martin-Martin_V8_Vantage_Convertible-2012.jpg:\n",
      "Aston_Martin-Martin_V8_Vantage_Convertible-2012\n",
      "Aston_Martin-Martin_V8_Vantage_Coupe-2012\n",
      "Aston_Martin-Martin_Virage_Convertible-2012\n",
      "\n",
      "Predictions for Dodge-Ram_Pickup_3500_Crew_Cab-2010.jpg:\n",
      "Dodge-Ram_Pickup_3500_Crew_Cab-2010\n",
      "Dodge-Ram_Pickup_3500_Quad_Cab-2009\n",
      "Dodge-Dakota_Club_Cab-2007\n",
      "\n",
      "Predictions for AM-General_Hummer_SUV-2000.jpg:\n",
      "AM-General_Hummer_SUV-2000\n",
      "HUMMER-H2_SUT_Crew_Cab-2009\n",
      "HUMMER-H3T_Crew_Cab-2010\n"
     ]
    }
   ],
   "source": [
    "test_file_list = [f for f in os.listdir(PREDICT_DIR) if\\\n",
    "                   os.path.isfile(os.path.join(PREDICT_DIR, f))]\n",
    "\n",
    "with open(LOOKUP_PATH, 'rb') as f:\n",
    "    lookup_dict = pickle.load(f)\n",
    "\n",
    "for test_file in test_file_list:\n",
    "    file_path = os.path.join(PREDICT_DIR, test_file)\n",
    "    input_image = load_img(file_path, \n",
    "                           target_size=(IMG_HEIGHT, IMG_WIDTH))\n",
    "    input_image = img_to_array(input_image)\n",
    "    # the images are scaled during training so they need to be scaled for predictions too\n",
    "    input_image = input_image/255.\n",
    "    input_image = np.expand_dims(input_image, axis=0)\n",
    "    prediction = json_model.predict(input_image)\n",
    "    top_3 = prediction[0].argsort()[-3:][::-1]\n",
    "    print('\\nPredictions for {}:'.format(test_file))\n",
    "    for idx in top_3:\n",
    "        print(lookup_dict.get(idx))"
   ]
  },
  {
   "cell_type": "markdown",
   "metadata": {},
   "source": [
    "## ROUND 4 of training (fine-tuned thrice)"
   ]
  },
  {
   "cell_type": "code",
   "execution_count": 3,
   "metadata": {},
   "outputs": [],
   "source": [
    "JSON_PATH = os.path.join(SAVE_DIR, 'InceptionV3_21_FT3_30_40.json')\n",
    "with open (JSON_PATH, 'r') as json_file:\n",
    "    loaded_model_json = json_file.read()\n",
    "\n",
    "json_model = model_from_json(loaded_model_json)"
   ]
  },
  {
   "cell_type": "code",
   "execution_count": 4,
   "metadata": {},
   "outputs": [],
   "source": [
    "WEIGHT_PATH = os.path.join(SAVE_DIR, 'InceptionV3_21_FT3_30_40.h5')\n",
    "json_model.load_weights(WEIGHT_PATH)"
   ]
  },
  {
   "cell_type": "markdown",
   "metadata": {},
   "source": [
    "### Predict!"
   ]
  },
  {
   "cell_type": "code",
   "execution_count": 5,
   "metadata": {},
   "outputs": [
    {
     "name": "stdout",
     "output_type": "stream",
     "text": [
      "\n",
      "Predictions for Audi-100_Sedan-1994.jpg:\n",
      "Audi-100_Sedan-1994\n",
      "Audi-100_Wagon-1994\n",
      "Audi-V8_Sedan-1994\n",
      "\n",
      "Predictions for Aston_Martin-Martin_V8_Vantage_Convertible-2012.jpg:\n",
      "Aston_Martin-Martin_V8_Vantage_Convertible-2012\n",
      "Aston_Martin-Martin_V8_Vantage_Coupe-2012\n",
      "Audi-TTS_Coupe-2012\n",
      "\n",
      "Predictions for Dodge-Ram_Pickup_3500_Crew_Cab-2010.jpg:\n",
      "Dodge-Ram_Pickup_3500_Crew_Cab-2010\n",
      "Dodge-Ram_Pickup_3500_Quad_Cab-2009\n",
      "Dodge-Durango_SUV-2007\n",
      "\n",
      "Predictions for AM-General_Hummer_SUV-2000.jpg:\n",
      "AM-General_Hummer_SUV-2000\n",
      "HUMMER-H2_SUT_Crew_Cab-2009\n",
      "HUMMER-H3T_Crew_Cab-2010\n"
     ]
    }
   ],
   "source": [
    "test_file_list = [f for f in os.listdir(PREDICT_DIR) if\\\n",
    "                   os.path.isfile(os.path.join(PREDICT_DIR, f))]\n",
    "\n",
    "with open(LOOKUP_PATH, 'rb') as f:\n",
    "    lookup_dict = pickle.load(f)\n",
    "\n",
    "for test_file in test_file_list:\n",
    "    file_path = os.path.join(PREDICT_DIR, test_file)\n",
    "    input_image = load_img(file_path, \n",
    "                           target_size=(IMG_HEIGHT, IMG_WIDTH))\n",
    "    input_image = img_to_array(input_image)\n",
    "    # the images are scaled during training so they need to be scaled for predictions too\n",
    "    input_image = input_image/255.\n",
    "    input_image = np.expand_dims(input_image, axis=0)\n",
    "    prediction = json_model.predict(input_image)\n",
    "    top_3 = prediction[0].argsort()[-3:][::-1]\n",
    "    print('\\nPredictions for {}:'.format(test_file))\n",
    "    for idx in top_3:\n",
    "        print(lookup_dict.get(idx))"
   ]
  },
  {
   "cell_type": "code",
   "execution_count": null,
   "metadata": {},
   "outputs": [],
   "source": []
  }
 ],
 "metadata": {
  "kernelspec": {
   "display_name": "Python 3",
   "language": "python",
   "name": "python3"
  },
  "language_info": {
   "codemirror_mode": {
    "name": "ipython",
    "version": 3
   },
   "file_extension": ".py",
   "mimetype": "text/x-python",
   "name": "python",
   "nbconvert_exporter": "python",
   "pygments_lexer": "ipython3",
   "version": "3.6.3"
  }
 },
 "nbformat": 4,
 "nbformat_minor": 2
}
