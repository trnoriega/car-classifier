{
 "cells": [
  {
   "cell_type": "markdown",
   "metadata": {},
   "source": [
    "# Brief summary of the experiments in this folder\n",
    "\n",
    "The experiments contained here show the results of experiments trying to modify and fine-tune a pretrained \n",
    "VGG16 network [available in the keras framework](https://keras.io/applications/#VGG16)\n",
    "\n",
    "All experiments were run on an amazon p2.xlarge instance with 4 CPUs and 1 NVIDIA GPU. \n",
    "On average they took about 40 min/ten training epochs\n",
    "\n",
    "Overall, the results indicated that the VGG16 network took very long to train \n",
    "~100min per 10 epochs and ~30 epochs to start plateauing. Even then the \n",
    "experiments were not yielding very impressive top-3 accuracies. \n",
    "\n",
    "These results motivated the Inception_v3 network tests pursued in the\n",
    "[inception_v3_experiments](../inception_v3_experiments/) folder.  "
   ]
  }
 ],
 "metadata": {
  "kernelspec": {
   "display_name": "Python 3",
   "language": "python",
   "name": "python3"
  },
  "language_info": {
   "codemirror_mode": {
    "name": "ipython",
    "version": 3
   },
   "file_extension": ".py",
   "mimetype": "text/x-python",
   "name": "python",
   "nbconvert_exporter": "python",
   "pygments_lexer": "ipython3",
   "version": "3.6.3"
  }
 },
 "nbformat": 4,
 "nbformat_minor": 2
}
